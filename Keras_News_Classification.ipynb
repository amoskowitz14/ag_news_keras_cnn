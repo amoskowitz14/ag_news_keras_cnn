{
 "cells": [
  {
   "cell_type": "markdown",
   "metadata": {
    "colab_type": "text",
    "id": "6LzbGMe24AG7"
   },
   "source": [
    "# Introduction"
   ]
  },
  {
   "cell_type": "markdown",
   "metadata": {
    "colab_type": "text",
    "id": "-T8aBfwY384K"
   },
   "source": [
    "### Overview:\n",
    "Using 120k news titles and 4 categories from the AG News set, a model is created to predict the news category given a news title.\n",
    "\n",
    "Utilized Keras to generate a Convolutional Neural Network (CNN) and baseline dense neural network with a 200 dimensional Genism Glove embedding. Predicted news category with a 87% test set accuracy.\n",
    "\n",
    "### SetUp:\n",
    "1. Install all packages from the Import statement.\n",
    "2. The 200 dimensional Word2Vec file of glove.6B.200d.txt can be downloaded at a zip file [here](http://nlp.stanford.edu/data/glove.6B.zip) (822 MB). See main page at the [GloVe: Global Vectors for Word Representation](https://nlp.stanford.edu/projects/glove/) introduction page.\n",
    "3. Designate the file path of the input data and Glove embedding file as a string in the 'directory' object.\n",
    "4. Download data file from the PyTorchNLPBook github [here](https://github.com/joosthub/PyTorchNLPBook/tree/master/data)\n",
    "\n",
    "### Sources:\n",
    "1. [Word Embedding use in Keras](https://machinelearningmastery.com/use-word-embedding-layers-deep-learning-keras/)\n",
    "\n",
    "2. [Original AG News Set](http://www.di.unipi.it/~gulli/AG_corpus_of_news_articles.html)\n",
    "\n",
    "3. [Convolutional Neural Networks in Keras](https://realpython.com/python-keras-text-classification/#convolutional-neural-networks-cnn)\n",
    "\n",
    "### Author:\n",
    "[Aaron Moskowitz](https://www.linkedin.com/in/aaroncmoskowitz/)"
   ]
  },
  {
   "cell_type": "markdown",
   "metadata": {
    "colab_type": "text",
    "id": "QmWSj73D07ZI"
   },
   "source": [
    "# Import"
   ]
  },
  {
   "cell_type": "code",
   "execution_count": 1,
   "metadata": {
    "colab": {
     "base_uri": "https://localhost:8080/",
     "height": 34
    },
    "colab_type": "code",
    "id": "WaCxoR5bc4VV",
    "outputId": "981b76a3-bf5e-495f-8e91-5abc061c24e8"
   },
   "outputs": [
    {
     "name": "stderr",
     "output_type": "stream",
     "text": [
      "Using TensorFlow backend.\n"
     ]
    }
   ],
   "source": [
    "# Directory Configuration\n",
    "import os\n",
    "\n",
    "# Goolge Colab Setup\n",
    "from google.colab import drive\n",
    "\n",
    "# Object Manipulation\n",
    "import numpy as np\n",
    "import pandas as pd\n",
    "\n",
    "# Word2Vec Import\n",
    "import gensim\n",
    "from gensim.test.utils import datapath\n",
    "\n",
    "# Tokenizer\n",
    "from tensorflow.python.keras.preprocessing.text import Tokenizer\n",
    "from tensorflow.python.keras.preprocessing.sequence import pad_sequences\n",
    "\n",
    "# Embedding Creation\n",
    "from numpy import asarray\n",
    "from numpy import zeros\n",
    "\n",
    "# Keras\n",
    "from keras import layers\n",
    "from keras.models import Sequential\n",
    "from keras.optimizers import Adam\n",
    "from keras.layers import Activation, Dense, Embedding, Flatten\n",
    "from keras.callbacks import EarlyStopping\n",
    "\n",
    "# Test Train Split\n",
    "from sklearn.model_selection import train_test_split\n",
    "\n",
    "# Visulization\n",
    "%matplotlib notebook\n",
    "import matplotlib.pyplot as plt\n",
    "plt.style.use('ggplot')\n",
    "%matplotlib inline"
   ]
  },
  {
   "cell_type": "markdown",
   "metadata": {
    "colab_type": "text",
    "id": "1srwJoSUZlAH"
   },
   "source": [
    "# Setup of project directory, or use of google Colab to run code"
   ]
  },
  {
   "cell_type": "code",
   "execution_count": 1,
   "metadata": {
    "colab": {
     "base_uri": "https://localhost:8080/",
     "height": 122
    },
    "colab_type": "code",
    "id": "2DsOxYfQ0-73",
    "outputId": "9f622983-7751-464b-bb0e-bd552e72b4de"
   },
   "outputs": [],
   "source": [
    "#drive.mount('/content/drive')"
   ]
  },
  {
   "cell_type": "code",
   "execution_count": 0,
   "metadata": {
    "colab": {},
    "colab_type": "code",
    "id": "CthicZvj1TB4"
   },
   "outputs": [],
   "source": [
    "directory = \"/content/drive/My Drive/Colab Notebooks/Deep_Learning_NLP/Keras_News_Classification_NLP_Project\""
   ]
  },
  {
   "cell_type": "code",
   "execution_count": 0,
   "metadata": {
    "colab": {},
    "colab_type": "code",
    "id": "BXAu6PMU2FNa"
   },
   "outputs": [],
   "source": [
    "os.chdir(directory)"
   ]
  },
  {
   "cell_type": "code",
   "execution_count": 0,
   "metadata": {
    "colab": {},
    "colab_type": "code",
    "id": "EdDyStDX1OWp"
   },
   "outputs": [],
   "source": [
    "glove_size = 200\n",
    "glove_file = datapath(directory + '/glove/glove.6B.' + str(glove_size) + 'd.txt')"
   ]
  },
  {
   "cell_type": "markdown",
   "metadata": {
    "colab_type": "text",
    "id": "SbYhSW2d086-"
   },
   "source": [
    "# Load Embedding"
   ]
  },
  {
   "cell_type": "markdown",
   "metadata": {
    "colab_type": "text",
    "id": "OlPYzI3FY4Ts"
   },
   "source": [
    "### Load the embedding into memory"
   ]
  },
  {
   "cell_type": "code",
   "execution_count": 0,
   "metadata": {
    "colab": {},
    "colab_type": "code",
    "id": "F5NYP0r0bWMe"
   },
   "outputs": [],
   "source": [
    "embeddings_index = dict()\n",
    "\n",
    "f = open(datapath(glove_file))\n",
    "for line in f:\n",
    "    values = line.split()\n",
    "    word = values[0]\n",
    "    coefs = asarray(values[1:], dtype='float32')\n",
    "    embeddings_index[word] = coefs\n",
    "f.close()"
   ]
  },
  {
   "cell_type": "markdown",
   "metadata": {
    "colab_type": "text",
    "id": "phs9pIsFZSS0"
   },
   "source": [
    "### Confirm Gensin embedding is expected"
   ]
  },
  {
   "cell_type": "code",
   "execution_count": 7,
   "metadata": {
    "colab": {
     "base_uri": "https://localhost:8080/",
     "height": 34
    },
    "colab_type": "code",
    "id": "JUHeeQaaZPUO",
    "outputId": "b3a4f577-3285-4579-fb6b-56762d0de128"
   },
   "outputs": [
    {
     "name": "stdout",
     "output_type": "stream",
     "text": [
      "Loaded 400000 word vectors.\n"
     ]
    }
   ],
   "source": [
    "print('Loaded %s word vectors.' % len(embeddings_index))"
   ]
  },
  {
   "cell_type": "code",
   "execution_count": 8,
   "metadata": {
    "colab": {
     "base_uri": "https://localhost:8080/",
     "height": 51
    },
    "colab_type": "code",
    "id": "IAshhO5lbhg_",
    "outputId": "d2b8040a-3a4b-47d5-e4ff-37c499c3647d"
   },
   "outputs": [
    {
     "name": "stdout",
     "output_type": "stream",
     "text": [
      "Confirm the embedding of a relevant word such as 'washington' with its embedding size of 200 is expected.\n",
      "View first 5 ellements of the embedding to see if it is plausible. First ellements are [-0.26623  -0.75065  -0.031357 -0.03684  -0.1875  ]\n"
     ]
    }
   ],
   "source": [
    "print('''Confirm the embedding of a relevant word such as 'washington' with its embedding size of''', len(embeddings_index['washington']), 'is expected.')\n",
    "print('View first 5 ellements of the embedding to see if it is plausible. First ellements are', embeddings_index['head'][0:5])"
   ]
  },
  {
   "cell_type": "markdown",
   "metadata": {
    "colab_type": "text",
    "id": "qU0jCABS42XH"
   },
   "source": [
    "# Import Data"
   ]
  },
  {
   "cell_type": "code",
   "execution_count": 9,
   "metadata": {
    "colab": {
     "base_uri": "https://localhost:8080/",
     "height": 204
    },
    "colab_type": "code",
    "id": "W9r0R92J4PLm",
    "outputId": "a38f147d-04c6-4704-e6ef-e76f3111c89f"
   },
   "outputs": [
    {
     "data": {
      "text/html": [
       "<div>\n",
       "<style scoped>\n",
       "    .dataframe tbody tr th:only-of-type {\n",
       "        vertical-align: middle;\n",
       "    }\n",
       "\n",
       "    .dataframe tbody tr th {\n",
       "        vertical-align: top;\n",
       "    }\n",
       "\n",
       "    .dataframe thead th {\n",
       "        text-align: right;\n",
       "    }\n",
       "</style>\n",
       "<table border=\"1\" class=\"dataframe\">\n",
       "  <thead>\n",
       "    <tr style=\"text-align: right;\">\n",
       "      <th></th>\n",
       "      <th>split</th>\n",
       "      <th>title</th>\n",
       "    </tr>\n",
       "    <tr>\n",
       "      <th>category</th>\n",
       "      <th></th>\n",
       "      <th></th>\n",
       "    </tr>\n",
       "  </thead>\n",
       "  <tbody>\n",
       "    <tr>\n",
       "      <th>Business</th>\n",
       "      <td>30000</td>\n",
       "      <td>30000</td>\n",
       "    </tr>\n",
       "    <tr>\n",
       "      <th>Sci/Tech</th>\n",
       "      <td>30000</td>\n",
       "      <td>30000</td>\n",
       "    </tr>\n",
       "    <tr>\n",
       "      <th>Sports</th>\n",
       "      <td>30000</td>\n",
       "      <td>30000</td>\n",
       "    </tr>\n",
       "    <tr>\n",
       "      <th>World</th>\n",
       "      <td>30000</td>\n",
       "      <td>30000</td>\n",
       "    </tr>\n",
       "  </tbody>\n",
       "</table>\n",
       "</div>"
      ],
      "text/plain": [
       "          split  title\n",
       "category              \n",
       "Business  30000  30000\n",
       "Sci/Tech  30000  30000\n",
       "Sports    30000  30000\n",
       "World     30000  30000"
      ]
     },
     "execution_count": 9,
     "metadata": {
      "tags": []
     },
     "output_type": "execute_result"
    }
   ],
   "source": [
    "# Load data from csv\n",
    "df = pd.read_csv(directory + '/data/news_with_splits.csv')\n",
    "\n",
    "df.groupby(['category']).count()"
   ]
  },
  {
   "cell_type": "code",
   "execution_count": 10,
   "metadata": {
    "colab": {
     "base_uri": "https://localhost:8080/",
     "height": 34
    },
    "colab_type": "code",
    "id": "bQRU59soNArk",
    "outputId": "f6cd9c6c-d321-4275-bd5b-a2bc4d66e634"
   },
   "outputs": [
    {
     "name": "stdout",
     "output_type": "stream",
     "text": [
      "Data import has rows of: 120000\n"
     ]
    }
   ],
   "source": [
    "col = ['title', 'category']\n",
    "input_data = df[col]\n",
    "\n",
    "# Get titles into a series\n",
    "categories = df['category']\n",
    "titles = df['title']\n",
    "\n",
    "print('Data import has rows of:', len(df))"
   ]
  },
  {
   "cell_type": "markdown",
   "metadata": {
    "colab_type": "text",
    "id": "wNmoTVZKoCpc"
   },
   "source": [
    "### View 5 example titles and associated categories in data to confirm upload worked as expected"
   ]
  },
  {
   "cell_type": "code",
   "execution_count": 12,
   "metadata": {
    "colab": {
     "base_uri": "https://localhost:8080/",
     "height": 119
    },
    "colab_type": "code",
    "id": "Q7VEMhZfl12c",
    "outputId": "2ef3f10d-cc88-40bf-df18-95c802e91609"
   },
   "outputs": [
    {
     "data": {
      "text/plain": [
       "0      Jobs, tax cuts key issues for Bush\n",
       "1    Jarden Buying Mr. Coffee #39;s Maker\n",
       "2       Retail sales show festive fervour\n",
       "3     Intervoice's Customers Come Calling\n",
       "4       Boeing Expects Air Force Contract\n",
       "Name: title, dtype: object"
      ]
     },
     "execution_count": 12,
     "metadata": {
      "tags": []
     },
     "output_type": "execute_result"
    }
   ],
   "source": [
    "titles.head()"
   ]
  },
  {
   "cell_type": "code",
   "execution_count": 13,
   "metadata": {
    "colab": {
     "base_uri": "https://localhost:8080/",
     "height": 119
    },
    "colab_type": "code",
    "id": "RGHyeCdRoH77",
    "outputId": "0ae96e11-3f1b-461d-f363-c24e1fa967fb"
   },
   "outputs": [
    {
     "data": {
      "text/plain": [
       "0    Business\n",
       "1    Business\n",
       "2    Business\n",
       "3    Business\n",
       "4    Business\n",
       "Name: category, dtype: object"
      ]
     },
     "execution_count": 13,
     "metadata": {
      "tags": []
     },
     "output_type": "execute_result"
    }
   ],
   "source": [
    "categories.head()"
   ]
  },
  {
   "cell_type": "markdown",
   "metadata": {
    "colab_type": "text",
    "id": "Lhd3EGPKoXTD"
   },
   "source": [
    "# Create One Hot Encoding and Dictionary for Categories"
   ]
  },
  {
   "cell_type": "markdown",
   "metadata": {
    "colab_type": "text",
    "id": "JKrNOt7QoxNd"
   },
   "source": [
    "## Create integer dictionary for pompts"
   ]
  },
  {
   "cell_type": "code",
   "execution_count": 0,
   "metadata": {
    "colab": {},
    "colab_type": "code",
    "id": "RXZAq1l2uF17"
   },
   "outputs": [],
   "source": [
    "# Adding a column of category_id encoding the category as an integer to ease in represenation of class\n",
    "input_data['category_id'] = categories.factorize()[0]\n",
    "category_id_df = input_data[['category', 'category_id']].drop_duplicates().sort_values('category_id')\n",
    "\n",
    "# Generate dictionary to code categorical_id back to category\n",
    "category_to_id = dict(category_id_df.values)\n",
    "id_to_category = dict(category_id_df[['category_id', 'category']].values)\n",
    "\n",
    "# Creating category of a list of integers\n",
    "category = list(input_data['category_id'])"
   ]
  },
  {
   "cell_type": "markdown",
   "metadata": {
    "colab_type": "text",
    "id": "s_ebSnwKo9UQ"
   },
   "source": [
    "### View category_id to category dictionary"
   ]
  },
  {
   "cell_type": "code",
   "execution_count": 60,
   "metadata": {
    "colab": {
     "base_uri": "https://localhost:8080/",
     "height": 68
    },
    "colab_type": "code",
    "id": "g4GeAsNUPTu4",
    "outputId": "1eead744-f1ed-4f93-9af7-2701c3998794"
   },
   "outputs": [
    {
     "name": "stdout",
     "output_type": "stream",
     "text": [
      "The size of the dictionary is 4\n",
      "\n",
      "View entire dictionary: {0: 'Business', 1: 'Sci/Tech', 2: 'Sports', 3: 'World'}\n"
     ]
    }
   ],
   "source": [
    "print('The size of the dictionary is', len(set(id_to_category)))\n",
    "\n",
    "print('\\nView entire dictionary:', id_to_category)"
   ]
  },
  {
   "cell_type": "markdown",
   "metadata": {
    "colab_type": "text",
    "id": "F0gdh5awQRLT"
   },
   "source": [
    "## Create one hot encoding representation of category"
   ]
  },
  {
   "cell_type": "code",
   "execution_count": 61,
   "metadata": {
    "colab": {
     "base_uri": "https://localhost:8080/",
     "height": 34
    },
    "colab_type": "code",
    "id": "9lP2yrn09VVc",
    "outputId": "aa07a488-7dec-4492-b788-e18e0ca3748c"
   },
   "outputs": [
    {
     "data": {
      "text/plain": [
       "[0, 0, 0, 0, 0]"
      ]
     },
     "execution_count": 61,
     "metadata": {
      "tags": []
     },
     "output_type": "execute_result"
    }
   ],
   "source": [
    "category[0:5]"
   ]
  },
  {
   "cell_type": "code",
   "execution_count": 62,
   "metadata": {
    "colab": {
     "base_uri": "https://localhost:8080/",
     "height": 34
    },
    "colab_type": "code",
    "id": "Hfg7OC-8-nbV",
    "outputId": "587f0437-6d30-4b87-ec1f-cf13fb7be439"
   },
   "outputs": [
    {
     "name": "stdout",
     "output_type": "stream",
     "text": [
      "Confirm category length is unchanged: 4\n"
     ]
    }
   ],
   "source": [
    "category_length = len(np.array(category))\n",
    "class_len = len(set(category))\n",
    "print('Confirm category length is unchanged:', class_len)"
   ]
  },
  {
   "cell_type": "code",
   "execution_count": 0,
   "metadata": {
    "colab": {},
    "colab_type": "code",
    "id": "c46YV73g-YsQ"
   },
   "outputs": [],
   "source": [
    "category_length = len(np.array(category))\n",
    "\n",
    "empty_array = np.zeros((category_length, class_len))\n",
    "empty_array[np.arange(category_length), category] = 1\n",
    "category_one_hot = empty_array"
   ]
  },
  {
   "cell_type": "code",
   "execution_count": 64,
   "metadata": {
    "colab": {
     "base_uri": "https://localhost:8080/",
     "height": 136
    },
    "colab_type": "code",
    "id": "P9f6xeBQ_3H_",
    "outputId": "6323827a-afb3-464a-9779-438395b3b143"
   },
   "outputs": [
    {
     "data": {
      "text/plain": [
       "array([[1., 0., 0., 0.],\n",
       "       [1., 0., 0., 0.],\n",
       "       [1., 0., 0., 0.],\n",
       "       ...,\n",
       "       [0., 0., 0., 1.],\n",
       "       [0., 0., 0., 1.],\n",
       "       [0., 0., 0., 1.]])"
      ]
     },
     "execution_count": 64,
     "metadata": {
      "tags": []
     },
     "output_type": "execute_result"
    }
   ],
   "source": [
    "#View sample of one hot encoding\n",
    "category_one_hot"
   ]
  },
  {
   "cell_type": "code",
   "execution_count": 65,
   "metadata": {
    "colab": {
     "base_uri": "https://localhost:8080/",
     "height": 34
    },
    "colab_type": "code",
    "id": "Ico5L3Y9CSte",
    "outputId": "2b89e397-dd66-4e13-f964-b210ac423824"
   },
   "outputs": [
    {
     "name": "stdout",
     "output_type": "stream",
     "text": [
      "Confirm that all records are covered in one hot encoding: 120000\n"
     ]
    }
   ],
   "source": [
    "print('Confirm that all records are covered in one hot encoding:', len(category_one_hot))"
   ]
  },
  {
   "cell_type": "markdown",
   "metadata": {
    "colab_type": "text",
    "id": "PUTaqoF5EJ9a"
   },
   "source": [
    "# Prepare data features"
   ]
  },
  {
   "cell_type": "code",
   "execution_count": 66,
   "metadata": {
    "colab": {
     "base_uri": "https://localhost:8080/",
     "height": 119
    },
    "colab_type": "code",
    "id": "Skz-2w5e3o7D",
    "outputId": "454e235c-53ac-4a30-8216-1ab8a9f32452"
   },
   "outputs": [
    {
     "data": {
      "text/plain": [
       "0      Jobs, tax cuts key issues for Bush\n",
       "1    Jarden Buying Mr. Coffee #39;s Maker\n",
       "2       Retail sales show festive fervour\n",
       "3     Intervoice's Customers Come Calling\n",
       "4       Boeing Expects Air Force Contract\n",
       "Name: title, dtype: object"
      ]
     },
     "execution_count": 66,
     "metadata": {
      "tags": []
     },
     "output_type": "execute_result"
    }
   ],
   "source": [
    "# Lowercase\n",
    "titles_clean = titles.apply(lambda x: x.lower())\n",
    "titles_clean = titles\n",
    "\n",
    "titles_clean.head()"
   ]
  },
  {
   "cell_type": "code",
   "execution_count": 67,
   "metadata": {
    "colab": {
     "base_uri": "https://localhost:8080/",
     "height": 34
    },
    "colab_type": "code",
    "id": "x0c0MveifoBh",
    "outputId": "2cb9ca88-0ff7-4fdd-9d00-d785d421d05f"
   },
   "outputs": [
    {
     "name": "stdout",
     "output_type": "stream",
     "text": [
      "[[120, 327, 119, 353, 697, 4, 48], [10508, 1397, 3376, 3671, 3, 7, 978], [601, 56, 362, 10509, 17583], [22587, 1268, 1154, 2512], [536, 1276, 201, 528, 443]]\n"
     ]
    }
   ],
   "source": [
    "# prepare tokenizer\n",
    "t = Tokenizer()\n",
    "t.fit_on_texts(titles_clean.tolist())\n",
    "vocab_size = len(t.word_index) + 1\n",
    "\n",
    "# integer encode the documents\n",
    "encoded_docs = t.texts_to_sequences(titles.tolist())\n",
    "print(encoded_docs[0:5])"
   ]
  },
  {
   "cell_type": "code",
   "execution_count": 69,
   "metadata": {
    "colab": {
     "base_uri": "https://localhost:8080/",
     "height": 34
    },
    "colab_type": "code",
    "id": "bddUbJI6hgxV",
    "outputId": "67ce6188-9188-42b8-e278-2fcad34b4c4e"
   },
   "outputs": [
    {
     "name": "stdout",
     "output_type": "stream",
     "text": [
      "The training data title vocabulary size is 36758\n"
     ]
    }
   ],
   "source": [
    "print('The training data title vocabulary size is', vocab_size)"
   ]
  },
  {
   "cell_type": "code",
   "execution_count": 70,
   "metadata": {
    "colab": {
     "base_uri": "https://localhost:8080/",
     "height": 34
    },
    "colab_type": "code",
    "id": "UqKrWmj3gJ0U",
    "outputId": "5d56c456-147f-4331-a71a-e95304a4c1c1"
   },
   "outputs": [
    {
     "name": "stdout",
     "output_type": "stream",
     "text": [
      "The training data with the longest word length is 24\n"
     ]
    }
   ],
   "source": [
    "# pad documents to a max length of the longest title\n",
    "max_length = 0\n",
    "for doc in encoded_docs:\n",
    "  if len(doc) > max_length:\n",
    "    max_length = len(doc)\n",
    "\n",
    "print('The training data with the longest word length is', max_length)\n",
    "\n",
    "padded_docs = pad_sequences(encoded_docs, maxlen=max_length, padding='post')"
   ]
  },
  {
   "cell_type": "code",
   "execution_count": 71,
   "metadata": {
    "colab": {
     "base_uri": "https://localhost:8080/",
     "height": 34
    },
    "colab_type": "code",
    "id": "4VXepMS2g9iT",
    "outputId": "7bc2c0fa-6833-451c-e69b-3218bb5197c6"
   },
   "outputs": [
    {
     "name": "stdout",
     "output_type": "stream",
     "text": [
      "Confirm that the padded_docs has the correct size of 120000\n"
     ]
    }
   ],
   "source": [
    "print('Confirm that the padded_docs has the correct size of', len(padded_docs))"
   ]
  },
  {
   "cell_type": "code",
   "execution_count": 75,
   "metadata": {
    "colab": {
     "base_uri": "https://localhost:8080/",
     "height": 34
    },
    "colab_type": "code",
    "id": "od_SqJnLWiV6",
    "outputId": "7dc1722e-5f8f-4b83-dcb1-8a2a6f2674c3"
   },
   "outputs": [
    {
     "name": "stdout",
     "output_type": "stream",
     "text": [
      "Confirm that the title below has the same number of non zero tokens in the padded document of: Jobs, tax cuts key issues for Bush\n"
     ]
    }
   ],
   "source": [
    "print('Confirm that the title below has the same number of non zero tokens in the padded document of:', titles[0])"
   ]
  },
  {
   "cell_type": "code",
   "execution_count": 76,
   "metadata": {
    "colab": {
     "base_uri": "https://localhost:8080/",
     "height": 51
    },
    "colab_type": "code",
    "id": "c9teBAYeCN46",
    "outputId": "a0ea5be7-1b5e-4df7-b8bf-98ddf360cd4e"
   },
   "outputs": [
    {
     "name": "stdout",
     "output_type": "stream",
     "text": [
      "See padded document for the position 1 title [120 327 119 353 697   4  48   0   0   0   0   0   0   0   0   0   0   0\n",
      "   0   0   0   0   0   0]\n"
     ]
    }
   ],
   "source": [
    "print('See padded document for the position 1 title', padded_docs[0])"
   ]
  },
  {
   "cell_type": "markdown",
   "metadata": {
    "colab_type": "text",
    "id": "EZrMQKZHwg1u"
   },
   "source": [
    "### Add an index in front of each padded title to allow tracking of the true category"
   ]
  },
  {
   "cell_type": "code",
   "execution_count": 77,
   "metadata": {
    "colab": {
     "base_uri": "https://localhost:8080/",
     "height": 306
    },
    "colab_type": "code",
    "id": "4gHRBSHScjPL",
    "outputId": "2eec4de0-4470-426a-fc59-f7316df38505"
   },
   "outputs": [
    {
     "name": "stdout",
     "output_type": "stream",
     "text": [
      "<class 'numpy.ndarray'>\n",
      "120000\n",
      "[[0\n",
      "  array([120, 327, 119, 353, 697,   4,  48,   0,   0,   0,   0,   0,   0,\n",
      "         0,   0,   0,   0,   0,   0,   0,   0,   0,   0,   0], dtype=int32)]\n",
      " [1\n",
      "  array([10508,  1397,  3376,  3671,     3,     7,   978,     0,     0,\n",
      "           0,     0,     0,     0,     0,     0,     0,     0,     0,\n",
      "           0,     0,     0,     0,     0,     0], dtype=int32)]\n",
      " [2\n",
      "  array([  601,    56,   362, 10509, 17583,     0,     0,     0,     0,\n",
      "           0,     0,     0,     0,     0,     0,     0,     0,     0,\n",
      "           0,     0,     0,     0,     0,     0], dtype=int32)]\n",
      " [3\n",
      "  array([22587,  1268,  1154,  2512,     0,     0,     0,     0,     0,\n",
      "           0,     0,     0,     0,     0,     0,     0,     0,     0,\n",
      "           0,     0,     0,     0,     0,     0], dtype=int32)]]\n"
     ]
    }
   ],
   "source": [
    "indexed_padded_docs = list()\n",
    "\n",
    "counter = 0\n",
    "for row in padded_docs:\n",
    "  indexed_padded_docs.append(list((counter, row)))\n",
    "  counter = counter + 1\n",
    "\n",
    "indexed_padded_docs = np.array(indexed_padded_docs)\n",
    "\n",
    "print(type(indexed_padded_docs))\n",
    "print(len(indexed_padded_docs))\n",
    "print(indexed_padded_docs[0:4])"
   ]
  },
  {
   "cell_type": "code",
   "execution_count": 79,
   "metadata": {
    "colab": {
     "base_uri": "https://localhost:8080/",
     "height": 34
    },
    "colab_type": "code",
    "id": "fbsOPtepbJHr",
    "outputId": "7a43d99e-b405-4be1-b794-45af21eb22e0"
   },
   "outputs": [
    {
     "data": {
      "text/plain": [
       "120000"
      ]
     },
     "execution_count": 79,
     "metadata": {
      "tags": []
     },
     "output_type": "execute_result"
    }
   ],
   "source": [
    "# Confirm length of padded docs is correct\n",
    "len(padded_docs)"
   ]
  },
  {
   "cell_type": "markdown",
   "metadata": {
    "colab_type": "text",
    "id": "u89jEoqlh0WX"
   },
   "source": [
    "# Prepare Weights for Data from Embedding"
   ]
  },
  {
   "cell_type": "code",
   "execution_count": 0,
   "metadata": {
    "colab": {},
    "colab_type": "code",
    "id": "HlGnjmwGi7y8"
   },
   "outputs": [],
   "source": [
    "# create a weight matrix for words in training docs\n",
    "embedding_matrix = zeros((vocab_size, glove_size))\n",
    "for word, i in t.word_index.items():\n",
    "\tembedding_vector = embeddings_index.get(word)\n",
    "\tif embedding_vector is not None:\n",
    "\t\tembedding_matrix[i] = embedding_vector"
   ]
  },
  {
   "cell_type": "code",
   "execution_count": 81,
   "metadata": {
    "colab": {
     "base_uri": "https://localhost:8080/",
     "height": 238
    },
    "colab_type": "code",
    "id": "mHX29effgjo7",
    "outputId": "86592010-b256-46d1-ea81-8271e0a5704a"
   },
   "outputs": [
    {
     "data": {
      "text/plain": [
       "array([[ 0.        ,  0.        ,  0.        , ...,  0.        ,\n",
       "         0.        ,  0.        ],\n",
       "       [ 0.57345998,  0.54170001, -0.23477   , ...,  0.54417998,\n",
       "        -0.23069   ,  0.34946999],\n",
       "       [-0.10272   ,  0.30410001, -0.13576999, ...,  0.36950999,\n",
       "         0.19039001, -0.12266   ],\n",
       "       ...,\n",
       "       [ 0.25883999, -0.67852998,  0.058128  , ...,  0.64424998,\n",
       "         0.58279997,  0.38321   ],\n",
       "       [ 0.19574   , -0.50405997, -0.13177   , ...,  0.15817   ,\n",
       "         0.51892   , -0.12782   ],\n",
       "       [ 0.31279999,  0.11203   ,  0.33820999, ..., -0.12418   ,\n",
       "        -0.035783  , -0.46472999]])"
      ]
     },
     "execution_count": 81,
     "metadata": {
      "tags": []
     },
     "output_type": "execute_result"
    }
   ],
   "source": [
    "# View embedding matrix\n",
    "embedding_matrix"
   ]
  },
  {
   "cell_type": "code",
   "execution_count": 82,
   "metadata": {
    "colab": {
     "base_uri": "https://localhost:8080/",
     "height": 34
    },
    "colab_type": "code",
    "id": "MgoJER92jLzm",
    "outputId": "2da69008-1fc1-4880-d088-b82b719ee4a7"
   },
   "outputs": [
    {
     "data": {
      "text/plain": [
       "numpy.ndarray"
      ]
     },
     "execution_count": 82,
     "metadata": {
      "tags": []
     },
     "output_type": "execute_result"
    }
   ],
   "source": [
    "type(embedding_matrix)"
   ]
  },
  {
   "cell_type": "code",
   "execution_count": 89,
   "metadata": {
    "colab": {
     "base_uri": "https://localhost:8080/",
     "height": 51
    },
    "colab_type": "code",
    "id": "bnF6budHrYp_",
    "outputId": "a8e3e66f-e2e3-4291-8e54-514d4b166b17"
   },
   "outputs": [
    {
     "name": "stdout",
     "output_type": "stream",
     "text": [
      "Confirm vocabulary size is rows of 36758 and embedding size of 200 is number of columns\n"
     ]
    },
    {
     "data": {
      "text/plain": [
       "(36758, 200)"
      ]
     },
     "execution_count": 89,
     "metadata": {
      "tags": []
     },
     "output_type": "execute_result"
    }
   ],
   "source": [
    "print('Confirm vocabulary size is rows of ' + str(vocab_size) + ' and embedding size of ' + str(glove_size) + ' is number of columns')\n",
    "np.shape(embedding_matrix)"
   ]
  },
  {
   "cell_type": "markdown",
   "metadata": {
    "colab_type": "text",
    "id": "tjzMj_rMFzYz"
   },
   "source": [
    "# Test Train Split"
   ]
  },
  {
   "cell_type": "code",
   "execution_count": 0,
   "metadata": {
    "colab": {},
    "colab_type": "code",
    "id": "1Yp3wSbJB-ZY"
   },
   "outputs": [],
   "source": [
    "#split the data into training, validation, and test set with 80%, 10%, 10% respectively\n",
    "train_x, test_x, train_y, test_y = train_test_split(indexed_padded_docs ,category_one_hot, test_size=0.1, random_state=1,shuffle=True)\n",
    "\n",
    "train_x, val_x, train_y, val_y = train_test_split(train_x ,train_y, test_size=0.1111111, random_state=2, shuffle=True)"
   ]
  },
  {
   "cell_type": "markdown",
   "metadata": {
    "colab_type": "text",
    "id": "N1QwI47ww8fK"
   },
   "source": [
    "### Confirm that sizes of features and target in both the train and test are the same, and view sample of train set."
   ]
  },
  {
   "cell_type": "code",
   "execution_count": 91,
   "metadata": {
    "colab": {
     "base_uri": "https://localhost:8080/",
     "height": 119
    },
    "colab_type": "code",
    "id": "FcoiyR0KCbR-",
    "outputId": "ddb1f9c4-9b93-4ba2-e39a-9bdc350f3003"
   },
   "outputs": [
    {
     "name": "stdout",
     "output_type": "stream",
     "text": [
      "96000\n",
      "96000\n",
      "12000\n",
      "12000\n",
      "12000\n",
      "12000\n"
     ]
    }
   ],
   "source": [
    "print(len(train_x))\n",
    "print(len(train_y))\n",
    "print(len(val_x))\n",
    "print(len(val_y))\n",
    "print(len(test_x))\n",
    "print(len(test_y))"
   ]
  },
  {
   "cell_type": "code",
   "execution_count": 92,
   "metadata": {
    "colab": {
     "base_uri": "https://localhost:8080/",
     "height": 357
    },
    "colab_type": "code",
    "id": "27mlFwKhhlQ1",
    "outputId": "4acacb7c-69be-4f2d-8719-21b9841251f0"
   },
   "outputs": [
    {
     "data": {
      "text/plain": [
       "array([[108099,\n",
       "        array([ 9632,  3163,  6371,     4, 14471,  1777,     0,     0,     0,\n",
       "           0,     0,     0,     0,     0,     0,     0,     0,     0,\n",
       "           0,     0,     0,     0,     0,     0], dtype=int32)],\n",
       "       [118739,\n",
       "        array([  373, 11438,   147,   311,     4,    65,  3118,     0,     0,\n",
       "           0,     0,     0,     0,     0,     0,     0,     0,     0,\n",
       "           0,     0,     0,     0,     0,     0], dtype=int32)],\n",
       "       [91242,\n",
       "        array([  48, 2864, 4001,    4,  461,  312,  316,  285,    0,    0,    0,\n",
       "          0,    0,    0,    0,    0,    0,    0,    0,    0,    0,    0,\n",
       "          0,    0], dtype=int32)],\n",
       "       [87803,\n",
       "        array([ 725,  503,  238,   50, 1143, 4148,  112,    8,    0,    0,    0,\n",
       "          0,    0,    0,    0,    0,    0,    0,    0,    0,    0,    0,\n",
       "          0,    0], dtype=int32)],\n",
       "       [89778,\n",
       "        array([1346, 1456, 3941,  741,    0,    0,    0,    0,    0,    0,    0,\n",
       "          0,    0,    0,    0,    0,    0,    0,    0,    0,    0,    0,\n",
       "          0,    0], dtype=int32)]], dtype=object)"
      ]
     },
     "execution_count": 92,
     "metadata": {
      "tags": []
     },
     "output_type": "execute_result"
    }
   ],
   "source": [
    "train_x[0:5]"
   ]
  },
  {
   "cell_type": "markdown",
   "metadata": {
    "colab_type": "text",
    "id": "_1KOLbRnPMtm"
   },
   "source": [
    "### Create helper function to convert indexed array to non-indexed array for use in training"
   ]
  },
  {
   "cell_type": "code",
   "execution_count": 93,
   "metadata": {
    "colab": {
     "base_uri": "https://localhost:8080/",
     "height": 136
    },
    "colab_type": "code",
    "id": "pyNKsmNZiTZY",
    "outputId": "66b85b7f-d596-4431-9c9f-058a89a6a99e"
   },
   "outputs": [
    {
     "data": {
      "text/plain": [
       "array([[  641,  1240,  2411, ...,     0,     0,     0],\n",
       "       [ 3524,     2,   617, ...,     0,     0,     0],\n",
       "       [ 1398,   455,   132, ...,     0,     0,     0],\n",
       "       ...,\n",
       "       [  554,  6920,   119, ...,     0,     0,     0],\n",
       "       [  360,     3,     7, ...,     0,     0,     0],\n",
       "       [18101,  7595,     4, ...,     0,     0,     0]], dtype=int32)"
      ]
     },
     "execution_count": 93,
     "metadata": {
      "tags": []
     },
     "output_type": "execute_result"
    }
   ],
   "source": [
    "def to_non_indexed_array(indexed_array):\n",
    "   \n",
    "  non_indexed_list = list()\n",
    "\n",
    "  counter = 0\n",
    "  for row in indexed_array:\n",
    "\n",
    "    non_indexed_list.append(row[1])\n",
    "    counter = counter + 1\n",
    "\n",
    "  non_indexed_array = np.array(non_indexed_list)\n",
    "  \n",
    "  return(non_indexed_array)\n",
    "\n",
    "to_non_indexed_array(test_x)"
   ]
  },
  {
   "cell_type": "markdown",
   "metadata": {
    "colab_type": "text",
    "id": "JR6WhT8Exfu2"
   },
   "source": [
    "# Create Dense Neural Network"
   ]
  },
  {
   "cell_type": "code",
   "execution_count": 95,
   "metadata": {
    "colab": {
     "base_uri": "https://localhost:8080/",
     "height": 374
    },
    "colab_type": "code",
    "id": "VLVZAqhgi3Ez",
    "outputId": "e6e97bab-4486-414e-ad4b-2d401c45ca5b"
   },
   "outputs": [
    {
     "name": "stdout",
     "output_type": "stream",
     "text": [
      "Model: \"sequential_3\"\n",
      "_________________________________________________________________\n",
      "Layer (type)                 Output Shape              Param #   \n",
      "=================================================================\n",
      "embedding_3 (Embedding)      (None, 24, 200)           7351600   \n",
      "_________________________________________________________________\n",
      "flatten_2 (Flatten)          (None, 4800)              0         \n",
      "_________________________________________________________________\n",
      "dense_5 (Dense)              (None, 4)                 19204     \n",
      "_________________________________________________________________\n",
      "activation_2 (Activation)    (None, 4)                 0         \n",
      "=================================================================\n",
      "Total params: 7,370,804\n",
      "Trainable params: 19,204\n",
      "Non-trainable params: 7,351,600\n",
      "_________________________________________________________________\n",
      "Train on 96000 samples, validate on 12000 samples\n",
      "Epoch 1/20\n",
      "96000/96000 [==============================] - 13s 135us/step - loss: 0.5087 - acc: 0.8230 - val_loss: 0.4681 - val_acc: 0.8367\n",
      "Epoch 2/20\n",
      "96000/96000 [==============================] - 13s 131us/step - loss: 0.4671 - acc: 0.8360 - val_loss: 0.4754 - val_acc: 0.8358\n"
     ]
    }
   ],
   "source": [
    "# Define model\n",
    "model_dense = Sequential()\n",
    "\n",
    "# Embedding Layers\n",
    "e = Embedding(vocab_size, glove_size, weights=[embedding_matrix], input_length=max_length, trainable=False)\n",
    "model_dense.add(e)\n",
    "model_dense.add(Flatten())\n",
    "\n",
    "# Dense layer\n",
    "model_dense.add(Dense(len(set(category))))\n",
    "\n",
    "# Output Layer\n",
    "model_dense.add(Activation('softmax'))\n",
    "\n",
    "# Compile Model\n",
    "model_dense.compile(optimizer=Adam(), loss='categorical_crossentropy', metrics=['accuracy'])\n",
    "\n",
    "# Summarize Model\n",
    "model_dense.summary()\n",
    "\n",
    "# Early Stopping\n",
    "es = EarlyStopping(monitor='val_acc', mode='max', patience = 1)\n",
    "\n",
    "# Fit Model\n",
    "history_dense = model_dense.fit(to_non_indexed_array(train_x), train_y,\n",
    "                                epochs=20,\n",
    "                                verbose=1,\n",
    "                                validation_data=(to_non_indexed_array(val_x), val_y),\n",
    "                                callbacks=[es]\n",
    "                               )"
   ]
  },
  {
   "cell_type": "markdown",
   "metadata": {
    "colab_type": "text",
    "id": "0hVaLdTCOWPB"
   },
   "source": [
    "# Create Convolutional Neural Network"
   ]
  },
  {
   "cell_type": "code",
   "execution_count": 96,
   "metadata": {
    "colab": {
     "base_uri": "https://localhost:8080/",
     "height": 442
    },
    "colab_type": "code",
    "id": "li-2AGMNiwKo",
    "outputId": "c9563f63-df36-4313-832b-484efab88d13"
   },
   "outputs": [
    {
     "name": "stdout",
     "output_type": "stream",
     "text": [
      "Model: \"sequential_4\"\n",
      "_________________________________________________________________\n",
      "Layer (type)                 Output Shape              Param #   \n",
      "=================================================================\n",
      "embedding_4 (Embedding)      (None, 24, 200)           7351600   \n",
      "_________________________________________________________________\n",
      "conv1d_2 (Conv1D)            (None, 22, 128)           76928     \n",
      "_________________________________________________________________\n",
      "global_max_pooling1d_2 (Glob (None, 128)               0         \n",
      "_________________________________________________________________\n",
      "dense_6 (Dense)              (None, 10)                1290      \n",
      "_________________________________________________________________\n",
      "dense_7 (Dense)              (None, 10)                110       \n",
      "_________________________________________________________________\n",
      "dense_8 (Dense)              (None, 4)                 44        \n",
      "=================================================================\n",
      "Total params: 7,429,972\n",
      "Trainable params: 78,372\n",
      "Non-trainable params: 7,351,600\n",
      "_________________________________________________________________\n",
      "Train on 96000 samples, validate on 12000 samples\n",
      "Epoch 1/2\n",
      "96000/96000 [==============================] - 19s 200us/step - loss: 0.4467 - categorical_accuracy: 0.8387 - val_loss: 0.3784 - val_categorical_accuracy: 0.8678\n",
      "Epoch 2/2\n",
      "96000/96000 [==============================] - 19s 199us/step - loss: 0.3447 - categorical_accuracy: 0.8788 - val_loss: 0.3638 - val_categorical_accuracy: 0.8732\n"
     ]
    }
   ],
   "source": [
    "cnn_model = Sequential()\n",
    "\n",
    "# Embedding Layer\n",
    "e = Embedding(vocab_size, glove_size, weights=[embedding_matrix], input_length=max_length, trainable=False)\n",
    "cnn_model.add(e)\n",
    "\n",
    "# Convolutional and Max Pooling Layer\n",
    "cnn_model.add(layers.Conv1D(128, 3, activation='relu'))\n",
    "cnn_model.add(layers.GlobalMaxPooling1D())\n",
    "\n",
    "# Dense Layers\n",
    "cnn_model.add(layers.Dense(10, activation='relu'))\n",
    "\n",
    "cnn_model.add(layers.Dense(10, activation='relu'))\n",
    "\n",
    "# Output Layer\n",
    "cnn_model.add(layers.Dense(len(set(category)), activation='sigmoid'))\n",
    "cnn_model.compile(optimizer='adam',\n",
    "              loss='categorical_crossentropy',\n",
    "              metrics=['categorical_accuracy'])\n",
    "\n",
    "# Summarize Model\n",
    "cnn_model.summary()\n",
    "\n",
    "# Early Stopping\n",
    "es = EarlyStopping(monitor='val_categorical_accuracy', mode='max', patience = 1)\n",
    "\n",
    "# Fit Model\n",
    "history = cnn_model.fit(to_non_indexed_array(train_x),train_y,\n",
    "                    epochs=2,\n",
    "                    verbose=1,\n",
    "                       validation_data=(to_non_indexed_array(val_x), val_y)\n",
    "                        ,callbacks=[es]\n",
    "                       )"
   ]
  },
  {
   "cell_type": "markdown",
   "metadata": {
    "colab_type": "text",
    "id": "CWb_QyD77kNw"
   },
   "source": []
  },
  {
   "cell_type": "markdown",
   "metadata": {
    "colab_type": "text",
    "id": "txNqAj7ty5aA"
   },
   "source": [
    "# Evaluate Model"
   ]
  },
  {
   "cell_type": "code",
   "execution_count": 108,
   "metadata": {
    "colab": {
     "base_uri": "https://localhost:8080/",
     "height": 282
    },
    "colab_type": "code",
    "id": "CCktUQ3gvITW",
    "outputId": "d18a0078-c7fd-47e4-ec62-a161ae535bf3"
   },
   "outputs": [
    {
     "data": {
      "image/png": "[encoded data removed]",
      "text/plain": [
       "<Figure size 432x288 with 1 Axes>"
      ]
     },
     "metadata": {
      "tags": []
     },
     "output_type": "display_data"
    }
   ],
   "source": [
    "loss = history.history['categorical_accuracy']\n",
    "\n",
    "#Number of Epochs\n",
    "epochs = range(len(loss))\n",
    "\n",
    "plt.figure()\n",
    "\n",
    "# Plot Training Accuracy\n",
    "plt.plot(epochs, loss, 'bo', label='Training Accuracy')\n",
    "plt.title('Training Accuracy')\n",
    "plt.show()"
   ]
  },
  {
   "cell_type": "code",
   "execution_count": 110,
   "metadata": {
    "colab": {
     "base_uri": "https://localhost:8080/",
     "height": 34
    },
    "colab_type": "code",
    "id": "XncQ15FFxapa",
    "outputId": "8d61e1a8-6805-403c-e5ba-3bf903cb66a5"
   },
   "outputs": [
    {
     "name": "stdout",
     "output_type": "stream",
     "text": [
      "Accuracy in the validation set is 87.325000\n"
     ]
    }
   ],
   "source": [
    "# evaluate the model on validation set\n",
    "loss, accuracy = cnn_model.evaluate(to_non_indexed_array(val_x), val_y, verbose=0)\n",
    "print('Accuracy in the validation set is %f' % (accuracy*100))"
   ]
  },
  {
   "cell_type": "markdown",
   "metadata": {
    "colab_type": "text",
    "id": "6AoxqYegBklk"
   },
   "source": [
    "# Exploration of Output"
   ]
  },
  {
   "cell_type": "code",
   "execution_count": 0,
   "metadata": {
    "colab": {},
    "colab_type": "code",
    "id": "CXiAthW6HzTc"
   },
   "outputs": [],
   "source": [
    "def exploration_output(model_exploration, num, verbose = True):\n",
    "  '''Parameters: model_exploration - type: keras.engine.sequential.Sequential\n",
    "    num - type: integer - Element in the validation set to view the actual class and scores of predicted classes\n",
    "    verbose - type: boolean - If True, prints details out title of the num element in the test set, and the true class of the element.\n",
    "    Output: Descending dataframe of most probable classes ordered by softmax scoring\n",
    "  '''\n",
    "  if verbose:\n",
    "    print('Testing output from title of:', titles[val_x[num][0]])\n",
    "\n",
    "  model_exploration.predict(to_non_indexed_array(val_x), verbose=0)[num]\n",
    "\n",
    "  results = pd.DataFrame(columns=['Class Id', 'Category', 'Score'])\n",
    "  results = list()\n",
    "  index = 0\n",
    "  for score in model_exploration.predict(to_non_indexed_array(val_x), verbose=0)[num]:\n",
    "    row = list((index, id_to_category.get(index), score))\n",
    "    results.append(row)\n",
    "    index = index + 1\n",
    "\n",
    "  results = pd.DataFrame(columns=['Class Id', 'Category', 'Score'], data = results)\n",
    "  \n",
    "  if verbose:\n",
    "    print('True class is:', id_to_category.get(np.argmax(val_y[num])))\n",
    "    \n",
    "  return(results.sort_values(by='Score', ascending = False).head())"
   ]
  },
  {
   "cell_type": "markdown",
   "metadata": {
    "colab_type": "text",
    "id": "xBOfAh-VrmQI"
   },
   "source": [
    "### Easy Validation Set Examples"
   ]
  },
  {
   "cell_type": "code",
   "execution_count": 112,
   "metadata": {
    "colab": {
     "base_uri": "https://localhost:8080/",
     "height": 207
    },
    "colab_type": "code",
    "id": "2WFySu1rx3YL",
    "outputId": "1b1eb0ac-3d48-4151-8d20-9b3c832d4d1d"
   },
   "outputs": [
    {
     "name": "stdout",
     "output_type": "stream",
     "text": [
      "Testing output from title of: Sadr Militia in Contacts to Hand Over Najaf Shrine\n",
      "True class is: World\n"
     ]
    },
    {
     "data": {
      "text/html": [
       "<div>\n",
       "<style scoped>\n",
       "    .dataframe tbody tr th:only-of-type {\n",
       "        vertical-align: middle;\n",
       "    }\n",
       "\n",
       "    .dataframe tbody tr th {\n",
       "        vertical-align: top;\n",
       "    }\n",
       "\n",
       "    .dataframe thead th {\n",
       "        text-align: right;\n",
       "    }\n",
       "</style>\n",
       "<table border=\"1\" class=\"dataframe\">\n",
       "  <thead>\n",
       "    <tr style=\"text-align: right;\">\n",
       "      <th></th>\n",
       "      <th>Class Id</th>\n",
       "      <th>Category</th>\n",
       "      <th>Score</th>\n",
       "    </tr>\n",
       "  </thead>\n",
       "  <tbody>\n",
       "    <tr>\n",
       "      <th>3</th>\n",
       "      <td>3</td>\n",
       "      <td>World</td>\n",
       "      <td>0.999184</td>\n",
       "    </tr>\n",
       "    <tr>\n",
       "      <th>2</th>\n",
       "      <td>2</td>\n",
       "      <td>Sports</td>\n",
       "      <td>0.000750</td>\n",
       "    </tr>\n",
       "    <tr>\n",
       "      <th>1</th>\n",
       "      <td>1</td>\n",
       "      <td>Sci/Tech</td>\n",
       "      <td>0.000055</td>\n",
       "    </tr>\n",
       "    <tr>\n",
       "      <th>0</th>\n",
       "      <td>0</td>\n",
       "      <td>Business</td>\n",
       "      <td>0.000012</td>\n",
       "    </tr>\n",
       "  </tbody>\n",
       "</table>\n",
       "</div>"
      ],
      "text/plain": [
       "   Class Id  Category     Score\n",
       "3         3     World  0.999184\n",
       "2         2    Sports  0.000750\n",
       "1         1  Sci/Tech  0.000055\n",
       "0         0  Business  0.000012"
      ]
     },
     "execution_count": 112,
     "metadata": {
      "tags": []
     },
     "output_type": "execute_result"
    }
   ],
   "source": [
    "exploration_output(model_dense, 5)"
   ]
  },
  {
   "cell_type": "code",
   "execution_count": 113,
   "metadata": {
    "colab": {
     "base_uri": "https://localhost:8080/",
     "height": 207
    },
    "colab_type": "code",
    "id": "z0ESSYugPvlA",
    "outputId": "672fe481-3270-4f57-f901-a54a4f7efd9a"
   },
   "outputs": [
    {
     "name": "stdout",
     "output_type": "stream",
     "text": [
      "Testing output from title of: Sadr Militia in Contacts to Hand Over Najaf Shrine\n",
      "True class is: World\n"
     ]
    },
    {
     "data": {
      "text/html": [
       "<div>\n",
       "<style scoped>\n",
       "    .dataframe tbody tr th:only-of-type {\n",
       "        vertical-align: middle;\n",
       "    }\n",
       "\n",
       "    .dataframe tbody tr th {\n",
       "        vertical-align: top;\n",
       "    }\n",
       "\n",
       "    .dataframe thead th {\n",
       "        text-align: right;\n",
       "    }\n",
       "</style>\n",
       "<table border=\"1\" class=\"dataframe\">\n",
       "  <thead>\n",
       "    <tr style=\"text-align: right;\">\n",
       "      <th></th>\n",
       "      <th>Class Id</th>\n",
       "      <th>Category</th>\n",
       "      <th>Score</th>\n",
       "    </tr>\n",
       "  </thead>\n",
       "  <tbody>\n",
       "    <tr>\n",
       "      <th>3</th>\n",
       "      <td>3</td>\n",
       "      <td>World</td>\n",
       "      <td>0.980802</td>\n",
       "    </tr>\n",
       "    <tr>\n",
       "      <th>1</th>\n",
       "      <td>1</td>\n",
       "      <td>Sci/Tech</td>\n",
       "      <td>0.000364</td>\n",
       "    </tr>\n",
       "    <tr>\n",
       "      <th>0</th>\n",
       "      <td>0</td>\n",
       "      <td>Business</td>\n",
       "      <td>0.000280</td>\n",
       "    </tr>\n",
       "    <tr>\n",
       "      <th>2</th>\n",
       "      <td>2</td>\n",
       "      <td>Sports</td>\n",
       "      <td>0.000116</td>\n",
       "    </tr>\n",
       "  </tbody>\n",
       "</table>\n",
       "</div>"
      ],
      "text/plain": [
       "   Class Id  Category     Score\n",
       "3         3     World  0.980802\n",
       "1         1  Sci/Tech  0.000364\n",
       "0         0  Business  0.000280\n",
       "2         2    Sports  0.000116"
      ]
     },
     "execution_count": 113,
     "metadata": {
      "tags": []
     },
     "output_type": "execute_result"
    }
   ],
   "source": [
    "exploration_output(cnn_model, 5)"
   ]
  },
  {
   "cell_type": "markdown",
   "metadata": {
    "colab_type": "text",
    "id": "71xt-a6zrsZR"
   },
   "source": [
    "### Hard Validation Set Examples"
   ]
  },
  {
   "cell_type": "code",
   "execution_count": 114,
   "metadata": {
    "colab": {
     "base_uri": "https://localhost:8080/",
     "height": 207
    },
    "colab_type": "code",
    "id": "NehtHlx2PgV_",
    "outputId": "60070ed4-c31a-4d57-ac0a-3ddea7575e15"
   },
   "outputs": [
    {
     "name": "stdout",
     "output_type": "stream",
     "text": [
      "Testing output from title of: Update 6: Motorola Expands Cell-Phone Market Niche\n",
      "True class is: Business\n"
     ]
    },
    {
     "data": {
      "text/html": [
       "<div>\n",
       "<style scoped>\n",
       "    .dataframe tbody tr th:only-of-type {\n",
       "        vertical-align: middle;\n",
       "    }\n",
       "\n",
       "    .dataframe tbody tr th {\n",
       "        vertical-align: top;\n",
       "    }\n",
       "\n",
       "    .dataframe thead th {\n",
       "        text-align: right;\n",
       "    }\n",
       "</style>\n",
       "<table border=\"1\" class=\"dataframe\">\n",
       "  <thead>\n",
       "    <tr style=\"text-align: right;\">\n",
       "      <th></th>\n",
       "      <th>Class Id</th>\n",
       "      <th>Category</th>\n",
       "      <th>Score</th>\n",
       "    </tr>\n",
       "  </thead>\n",
       "  <tbody>\n",
       "    <tr>\n",
       "      <th>1</th>\n",
       "      <td>1</td>\n",
       "      <td>Sci/Tech</td>\n",
       "      <td>0.657966</td>\n",
       "    </tr>\n",
       "    <tr>\n",
       "      <th>0</th>\n",
       "      <td>0</td>\n",
       "      <td>Business</td>\n",
       "      <td>0.208693</td>\n",
       "    </tr>\n",
       "    <tr>\n",
       "      <th>3</th>\n",
       "      <td>3</td>\n",
       "      <td>World</td>\n",
       "      <td>0.000111</td>\n",
       "    </tr>\n",
       "    <tr>\n",
       "      <th>2</th>\n",
       "      <td>2</td>\n",
       "      <td>Sports</td>\n",
       "      <td>0.000015</td>\n",
       "    </tr>\n",
       "  </tbody>\n",
       "</table>\n",
       "</div>"
      ],
      "text/plain": [
       "   Class Id  Category     Score\n",
       "1         1  Sci/Tech  0.657966\n",
       "0         0  Business  0.208693\n",
       "3         3     World  0.000111\n",
       "2         2    Sports  0.000015"
      ]
     },
     "execution_count": 114,
     "metadata": {
      "tags": []
     },
     "output_type": "execute_result"
    }
   ],
   "source": [
    "exploration_output(cnn_model, 200)"
   ]
  },
  {
   "cell_type": "markdown",
   "metadata": {
    "colab_type": "text",
    "id": "4lf0wrwkQ4sq"
   },
   "source": [
    "The example is subtle when even though Motorola and cell-phones would be common in technology articles, the context of them with words like market or especially the phrase \"market niche\" clearly indicate that the example is primarily business related. Good sign that there is a softmax score of .20 for business, with only a .66 score for technology. BERT and other transformers to understand how the context of a word like motorola or cell-phone changes in the context of phrases such as \"market niche\" could possibly correctly categorize this example."
   ]
  },
  {
   "cell_type": "code",
   "execution_count": 115,
   "metadata": {
    "colab": {
     "base_uri": "https://localhost:8080/",
     "height": 207
    },
    "colab_type": "code",
    "id": "BhZJfsUPPiGR",
    "outputId": "3d722005-91df-4544-f57a-9f96a94b1914"
   },
   "outputs": [
    {
     "name": "stdout",
     "output_type": "stream",
     "text": [
      "Testing output from title of: Tag Team: Yahoo and Adobe\n",
      "True class is: Business\n"
     ]
    },
    {
     "data": {
      "text/html": [
       "<div>\n",
       "<style scoped>\n",
       "    .dataframe tbody tr th:only-of-type {\n",
       "        vertical-align: middle;\n",
       "    }\n",
       "\n",
       "    .dataframe tbody tr th {\n",
       "        vertical-align: top;\n",
       "    }\n",
       "\n",
       "    .dataframe thead th {\n",
       "        text-align: right;\n",
       "    }\n",
       "</style>\n",
       "<table border=\"1\" class=\"dataframe\">\n",
       "  <thead>\n",
       "    <tr style=\"text-align: right;\">\n",
       "      <th></th>\n",
       "      <th>Class Id</th>\n",
       "      <th>Category</th>\n",
       "      <th>Score</th>\n",
       "    </tr>\n",
       "  </thead>\n",
       "  <tbody>\n",
       "    <tr>\n",
       "      <th>1</th>\n",
       "      <td>1</td>\n",
       "      <td>Sci/Tech</td>\n",
       "      <td>0.453019</td>\n",
       "    </tr>\n",
       "    <tr>\n",
       "      <th>0</th>\n",
       "      <td>0</td>\n",
       "      <td>Business</td>\n",
       "      <td>0.070219</td>\n",
       "    </tr>\n",
       "    <tr>\n",
       "      <th>2</th>\n",
       "      <td>2</td>\n",
       "      <td>Sports</td>\n",
       "      <td>0.003894</td>\n",
       "    </tr>\n",
       "    <tr>\n",
       "      <th>3</th>\n",
       "      <td>3</td>\n",
       "      <td>World</td>\n",
       "      <td>0.000837</td>\n",
       "    </tr>\n",
       "  </tbody>\n",
       "</table>\n",
       "</div>"
      ],
      "text/plain": [
       "   Class Id  Category     Score\n",
       "1         1  Sci/Tech  0.453019\n",
       "0         0  Business  0.070219\n",
       "2         2    Sports  0.003894\n",
       "3         3     World  0.000837"
      ]
     },
     "execution_count": 115,
     "metadata": {
      "tags": []
     },
     "output_type": "execute_result"
    }
   ],
   "source": [
    "exploration_output(cnn_model, 106)"
   ]
  },
  {
   "cell_type": "markdown",
   "metadata": {
    "colab_type": "text",
    "id": "XXEbipURRrNV"
   },
   "source": [
    "Similar to above, the meaning of of words of Yahoo and Adobe shift when they appear together versus when they appear on their own."
   ]
  },
  {
   "cell_type": "markdown",
   "metadata": {
    "colab_type": "text",
    "id": "ckFIEqbX1bCw"
   },
   "source": [
    "# Test Set Accuracy"
   ]
  },
  {
   "cell_type": "code",
   "execution_count": 118,
   "metadata": {
    "colab": {
     "base_uri": "https://localhost:8080/",
     "height": 34
    },
    "colab_type": "code",
    "id": "qUH8Fv8j3VFO",
    "outputId": "e2289456-bc13-436e-f96f-c0882de8088c"
   },
   "outputs": [
    {
     "name": "stdout",
     "output_type": "stream",
     "text": [
      "Accuracy: 87.266667\n"
     ]
    }
   ],
   "source": [
    "# evaluate the model on test set\n",
    "loss, accuracy = cnn_model.evaluate(to_non_indexed_array(test_x), test_y, verbose=0)\n",
    "print('Accuracy: %f' % (accuracy*100))"
   ]
  }
 ],
 "metadata": {
  "accelerator": "GPU",
  "colab": {
   "collapsed_sections": [],
   "name": "Keras_News_Classification.ipynb",
   "provenance": []
  },
  "kernelspec": {
   "display_name": "Python 3",
   "language": "python",
   "name": "python3"
  },
  "language_info": {
   "codemirror_mode": {
    "name": "ipython",
    "version": 3
   },
   "file_extension": ".py",
   "mimetype": "text/x-python",
   "name": "python",
   "nbconvert_exporter": "python",
   "pygments_lexer": "ipython3",
   "version": "3.7.3"
  }
 },
 "nbformat": 4,
 "nbformat_minor": 1
}
